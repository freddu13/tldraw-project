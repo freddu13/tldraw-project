{
 "cells": [
  {
   "cell_type": "markdown",
   "metadata": {},
   "source": [
    "---\n",
    "title: Tracking Changes\n",
    "date: 2023-11-30 \n",
    "authors:\n",
    "  - name: Sébastien Boisgérault\n",
    "    email: Sebastien.Boisgerault@minesparis.psl.eu\n",
    "    url: https://github.com/boisgera\n",
    "    affiliations:\n",
    "      - institution: Mines Paris - PSL University\n",
    "        department: Institut des Transformation Numériques (ITN)\n",
    "github: boisgera\n",
    "license: CC-BY-4.0\n",
    "open_access: true\n",
    "---"
   ]
  },
  {
   "cell_type": "markdown",
   "metadata": {},
   "source": [
    "In order to understand how `.tldr` files are structured, we can add a new graphical objects, change some if their properties, etc. and each time we modify the document, analyze the corresponding evolution of the file.\n",
    "\n",
    "In this notebook, we develop some tooling to help us track such changes."
   ]
  },
  {
   "cell_type": "markdown",
   "metadata": {},
   "source": [
    "## Text comparison"
   ]
  },
  {
   "cell_type": "markdown",
   "metadata": {},
   "source": [
    "We define two similar versions of the \"zen of Python\":"
   ]
  },
  {
   "cell_type": "code",
   "execution_count": 1,
   "metadata": {},
   "outputs": [],
   "source": [
    "zen_1 = \"\"\"The Zen of Python, by Tim Peters\n",
    "\n",
    "Beautiful is better than ugly.\n",
    "Explicit is better than implicit.\n",
    "Simple is better than complex.\n",
    "Complex is better than complicated.\n",
    "Flat is better than nested.\n",
    "Sparse is better than dense.\n",
    "Readability counts.\n",
    "Special cases aren't special enough to break the rules.\n",
    "Errors should never pass silently.\n",
    "In the face of ambiguity, refuse the temptation to guess.\n",
    "There should be one obvious way to do it.\n",
    "Although that way may not be obvious at first.\n",
    "Now is better than never.\n",
    "Although never is often better than right now.\n",
    "If the implementation is hard to explain, it's a bad idea.\n",
    "If the implementation is easy to explain, it is a good idea.\n",
    "\"\"\""
   ]
  },
  {
   "cell_type": "code",
   "execution_count": 2,
   "metadata": {},
   "outputs": [],
   "source": [
    "zen_2 = \"\"\"\\\n",
    "The Zen of Python, by Tim Peters\n",
    "\n",
    "Beautiful is better than ugly.\n",
    "Explicit is better than implicit.\n",
    "Simple is better than complex.\n",
    "Complex is better than complicated.\n",
    "Flat is better than nested.\n",
    "Sparse is better than dense.\n",
    "Readability counts.\n",
    "Special cases aren't special enough to break the rules.\n",
    "Although practicality beats purity.\n",
    "Errors should never pass silently.\n",
    "Unless explicitly silenced.\n",
    "In the face of ambiguity, refuse the temptation to guess.\n",
    "There should be one-- and preferably only one --obvious way to do it.\n",
    "Although that way may not be obvious at first unless you're Dutch.\n",
    "Now is better than never.\n",
    "Although never is often better than *right* now.\n",
    "If the implementation is hard to explain, it's a bad idea.\n",
    "If the implementation is easy to explain, it may be a good idea.\n",
    "Namespaces are one honking great idea -- let's do more of those!\n",
    "\"\"\""
   ]
  },
  {
   "cell_type": "markdown",
   "metadata": {},
   "source": [
    "```{exercise}\n",
    " 1. Transform `zen_1` and `zen_2` into list of lines.\n",
    " 2. Use the [`difflib`](https://docs.python.org/3/library/difflib.html) module of the Python standard library to [`compare`](https://docs.python.org/3/library/difflib.html#difflib.Differ.compare) the two sequences.\n",
    " 3. Make a text out of the output of compare and print it.\n",
    " 4. Interpret the result and list the differences between both versions of the zen of Python.\n",
    "```"
   ]
  },
  {
   "cell_type": "code",
   "execution_count": null,
   "metadata": {},
   "outputs": [],
   "source": [
    "# Transformer zen_1 et zen_2 en listes de lignes\n",
    "lines_zen_1 = zen_1.split('\\n')\n",
    "lines_zen_2 = zen_2.split('\\n')\n",
    "\n",
    "# Comparer les deux séquences avec difflib\n",
    "differ = difflib.Differ()\n",
    "diff_result = list(differ.compare(lines_zen_1, lines_zen_2))\n",
    "\n",
    "# Créer un texte à partir du résultat de la comparaison\n",
    "text_diff = '\\n'.join(diff_result)\n",
    "\n",
    "# Afficher le texte de la différence\n",
    "print(text_diff)"
   ]
  },
  {
   "cell_type": "markdown",
   "metadata": {
    "jupyter": {
     "source_hidden": true
    }
   },
   "source": [
    "We can make our job easier if we use HTML instead of plain text to visualise the differences between the two texts.\n",
    "\n",
    "\n",
    "```{exercise}\n",
    "  1. Use the [HtmlDiff](https://docs.python.org/3/library/difflib.html#difflib.HtmlDiff) class of difflib to produce a `diff.html` file that represents this difference in a HTML document.\n",
    "  2. Use the [webbrowser](https://docs.python.org/3/library/webbrowser.html) module of the standard library to open it!\n",
    "  3. Define a `display_diff_text` function that takes two arguments `text_1` and `text_2` and automates steps 1. and 2.\n",
    "```"
   ]
  },
  {
   "cell_type": "markdown",
   "metadata": {},
   "source": [
    "## Comparison of JSON documents"
   ]
  },
  {
   "cell_type": "markdown",
   "metadata": {},
   "source": [
    "````{exercise} Comparison of dictionnaries\n",
    "\n",
    " 1. Create a `display_diff` function that takes two Python objects, converts them to strings then leverages `display_diff_text` to display the difference in a browser.\n",
    "\n",
    " 2. Consider the 3 dictionaries defined by\n",
    "    ```python\n",
    "    d1 = {k:k+1 for k in range(100)}\n",
    "    d2 = d1.copy(); d2[50] = 50\n",
    "    d3 = {k:k+1 for k in range(99, -1, -1)}\n",
    "    ```\n",
    "    `d1` and `d2` have a slight difference and `d1` and `d2` are equal.\n",
    "    Does your `display_diff` function make easy to spot where the difference is in the first case when it compares `d1` and `d2`?\n",
    "    Does it make easy to see that `d1` and `d3` are equal?\n",
    "\n",
    "  3. Investigate the [`pprint`](https://docs.python.org/3/library/pprint.html) module standard library ; use it to improve the behavior of `display_text_diff` in the two cases considered in the previous question.\n",
    "\n",
    "````\n",
    " "
   ]
  },
  {
   "cell_type": "code",
   "execution_count": null,
   "metadata": {},
   "outputs": [],
   "source": [
    "import difflib\n",
    "import pprint\n",
    "from IPython.core.display import display, HTML\n",
    "\n",
    "def display_diff(obj1, obj2):\n",
    "    \"\"\"\n",
    "    Affiche la différence entre deux objets Python dans un navigateur.\n",
    "    \"\"\"\n",
    "    str1 = pprint.pformat(obj1)\n",
    "    str2 = pprint.pformat(obj2)\n",
    "\n",
    "    display_diff_text(str1, str2)\n",
    "\n",
    "def display_diff_text(text1, text2):\n",
    "    \"\"\"\n",
    "    Affiche la différence entre deux textes dans un navigateur.\n",
    "    \"\"\"\n",
    "    differ = difflib.Differ()\n",
    "    diff_result = list(differ.compare(text1.splitlines(), text2.splitlines()))\n",
    "\n",
    "    html_diff = \"\\n\".join(diff_result)\n",
    "    display(HTML(f\"<pre>{html_diff}</pre>\"))\n",
    "\n",
    "# Définir des dictionnaires\n",
    "d1 = {k: k + 1 for k in range(100)}\n",
    "d2 = d1.copy()\n"
   ]
  },
  {
   "cell_type": "code",
   "execution_count": null,
   "metadata": {},
   "outputs": [],
   "source": [
    "# amélioration de display_text_diff #\n",
    "import pprint\n",
    "import difflib\n",
    "from IPython.core.display import display, HTML\n",
    "\n",
    "def display_diff(obj1, obj2):\n",
    "    \"\"\"\n",
    "    Affiche la différence entre deux objets Python dans un navigateur.\n",
    "    \"\"\"\n",
    "    pp = pprint.PrettyPrinter(width=40, compact=True)\n",
    "    str1 = pp.pformat(obj1)\n",
    "    str2 = pp.pformat(obj2)\n",
    "\n",
    "    display_diff_text(str1, str2)\n",
    "\n",
    "def display_diff_text(text1, text2):\n",
    "    \"\"\"\n",
    "    Affiche la différence entre deux textes dans un navigateur.\n",
    "    \"\"\"\n",
    "    differ = difflib.Differ()\n",
    "    diff_result = list(differ.compare(text1.splitlines(), text2.splitlines()))\n",
    "\n",
    "    html_diff = \"\\n\".join(diff_result)\n",
    "    display(HTML(f\"<pre>{html_diff}</pre>\"))\n",
    "\n",
    "# Définir des dictionnaires\n",
    "d1 = {k: k + 1 for k in range(100)}\n",
    "d2 = d1.copy()\n",
    "d2[50] = 50\n",
    "d3 = {k: k + 1 for k in range(99, -1, -1)}\n",
    "\n",
    "# Tester display_diff avec d1 et d2\n",
    "display_diff(d1, d2)\n",
    "\n",
    "# Tester display_diff avec d1 et d3\n",
    "display_diff(d1, d3)\n"
   ]
  },
  {
   "cell_type": "markdown",
   "metadata": {},
   "source": [
    "```{exercise} tldraw documents comparator\n",
    "Implement a function `tldraw_diff` that takes as argument two filenames that refer to tldraw documents and display their differences in the browser.\n",
    "```"
   ]
  },
  {
   "cell_type": "code",
   "execution_count": null,
   "metadata": {},
   "outputs": [],
   "source": [
    "import difflib\n",
    "from IPython.core.display import display, HTML\n",
    "\n",
    "def read_tldraw_file(filename):\n",
    "    \"\"\"\n",
    "    Lit le contenu d'un fichier tldraw et retourne une liste de lignes.\n",
    "    \"\"\"\n",
    "    with open(filename, 'r', encoding='utf-8') as file:\n",
    "        content = file.readlines()\n",
    "    return content\n",
    "\n",
    "def tldraw_diff(file1, file2):\n",
    "    \"\"\"\n",
    "    Affiche les différences entre deux fichiers tldraw dans un navigateur.\n",
    "    \"\"\"\n",
    "    # Lire le contenu des fichiers tldraw\n",
    "    content1 = read_tldraw_file(file1)\n",
    "    content2 = read_tldraw_file(file2)\n",
    "\n",
    "    # Comparer les deux contenus avec difflib\n",
    "    differ = difflib.Differ()\n",
    "    diff_result = list(differ.compare(content1, content2))\n",
    "\n",
    "    # Créer un texte à partir du résultat de la comparaison\n",
    "    html_diff = \"\\n\".join(diff_result)\n",
    "\n",
    "    # Afficher les différences dans le navigateur\n",
    "    display(HTML(f\"<pre>{html_diff}</pre>\"))\n"
   ]
  }
 ],
 "metadata": {
  "kernelspec": {
   "display_name": "Python 3 (ipykernel)",
   "language": "python",
   "name": "python3"
  },
  "language_info": {
   "codemirror_mode": {
    "name": "ipython",
    "version": 3
   },
   "file_extension": ".py",
   "mimetype": "text/x-python",
   "name": "python",
   "nbconvert_exporter": "python",
   "pygments_lexer": "ipython3",
   "version": "3.12.0"
  }
 },
 "nbformat": 4,
 "nbformat_minor": 4
}
