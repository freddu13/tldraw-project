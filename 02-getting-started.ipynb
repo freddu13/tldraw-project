{
 "cells": [
  {
   "cell_type": "markdown",
   "id": "2d474a3e-274d-4bf8-95f3-2c18179877d9",
   "metadata": {},
   "source": [
    "---\n",
    "title: Getting Started\n",
    "date: 2023-11-30 \n",
    "authors:\n",
    "  - name: Sébastien Boisgérault\n",
    "    email: Sebastien.Boisgerault@minesparis.psl.eu\n",
    "    url: https://github.com/boisgera\n",
    "    affiliations:\n",
    "      - institution: Mines Paris - PSL University\n",
    "        department: Institut des Transformation Numériques (ITN)\n",
    "github: boisgera\n",
    "license: CC-BY-4.0\n",
    "open_access: true\n",
    "---"
   ]
  },
  {
   "cell_type": "markdown",
   "id": "99eb7623-348a-4873-9200-614c9be5bdb6",
   "metadata": {},
   "source": [
    "![tldraw](images/hello-tldraw.png)    "
   ]
  },
  {
   "cell_type": "markdown",
   "id": "f2cbb2bd-92e6-4c23-95b5-7996e1850533",
   "metadata": {},
   "source": [
    "# A Simple Document"
   ]
  },
  {
   "cell_type": "markdown",
   "id": "c95958ae-0e8e-40b3-9a1a-963745eda44e",
   "metadata": {},
   "source": [
    "```{exercise} Create a \"Hello tldraw!\" document\n",
    "\n",
    " 1. Download the folder of this project on your computer. \n",
    "  \n",
    " 2. Create an tldraw document that contains the text \"Hello tldraw!\" and save it on your computer.\n",
    " \n",
    " 3. Rename your tldraw document `hello-tldraw.tldr` and move it into the `docs` subfolder of the project.\n",
    "```"
   ]
  },
  {
   "cell_type": "code",
   "execution_count": 1,
   "id": "e0f747ac-58e2-4e00-8886-500e6cfb8808",
   "metadata": {},
   "outputs": [
    {
     "ename": "FileExistsError",
     "evalue": "[WinError 183] Impossible de créer un fichier déjà existant: 'hello-tldraw.tldraw' -> 'docs/hello-tldraw.tldraw'",
     "output_type": "error",
     "traceback": [
      "\u001b[1;31m---------------------------------------------------------------------------\u001b[0m",
      "\u001b[1;31mFileExistsError\u001b[0m                           Traceback (most recent call last)",
      "Cell \u001b[1;32mIn[1], line 36\u001b[0m\n\u001b[0;32m     33\u001b[0m creer_document_tldraw(\u001b[38;5;124m\"\u001b[39m\u001b[38;5;124mHello tldraw!\u001b[39m\u001b[38;5;124m\"\u001b[39m, \u001b[38;5;124m\"\u001b[39m\u001b[38;5;124mhello-tldraw.tldraw\u001b[39m\u001b[38;5;124m\"\u001b[39m)\n\u001b[0;32m     35\u001b[0m \u001b[38;5;66;03m# Renommer et déplacer le fichier dans le sous-dossier \"docs\"\u001b[39;00m\n\u001b[1;32m---> 36\u001b[0m \u001b[43mrenommer_et_deplacer_fichier\u001b[49m\u001b[43m(\u001b[49m\u001b[38;5;124;43m\"\u001b[39;49m\u001b[38;5;124;43mhello-tldraw.tldraw\u001b[39;49m\u001b[38;5;124;43m\"\u001b[39;49m\u001b[43m,\u001b[49m\u001b[43m \u001b[49m\u001b[38;5;124;43m\"\u001b[39;49m\u001b[38;5;124;43mdocs/hello-tldraw.tldraw\u001b[39;49m\u001b[38;5;124;43m\"\u001b[39;49m\u001b[43m,\u001b[49m\u001b[43m \u001b[49m\u001b[38;5;124;43m\"\u001b[39;49m\u001b[38;5;124;43mdocs\u001b[39;49m\u001b[38;5;124;43m\"\u001b[39;49m\u001b[43m)\u001b[49m\n",
      "Cell \u001b[1;32mIn[1], line 22\u001b[0m, in \u001b[0;36mrenommer_et_deplacer_fichier\u001b[1;34m(ancien_nom, nouveau_nom, sous_dossier)\u001b[0m\n\u001b[0;32m     20\u001b[0m \u001b[38;5;28;01mdef\u001b[39;00m \u001b[38;5;21mrenommer_et_deplacer_fichier\u001b[39m(ancien_nom, nouveau_nom, sous_dossier):\n\u001b[0;32m     21\u001b[0m     \u001b[38;5;66;03m# Renommer le fichier\u001b[39;00m\n\u001b[1;32m---> 22\u001b[0m     \u001b[43mos\u001b[49m\u001b[38;5;241;43m.\u001b[39;49m\u001b[43mrename\u001b[49m\u001b[43m(\u001b[49m\u001b[43mancien_nom\u001b[49m\u001b[43m,\u001b[49m\u001b[43m \u001b[49m\u001b[43mnouveau_nom\u001b[49m\u001b[43m)\u001b[49m\n\u001b[0;32m     24\u001b[0m     \u001b[38;5;66;03m# Déplacer le fichier dans le sous-dossier\u001b[39;00m\n\u001b[0;32m     25\u001b[0m     dossier_destination \u001b[38;5;241m=\u001b[39m os\u001b[38;5;241m.\u001b[39mpath\u001b[38;5;241m.\u001b[39mjoin(os\u001b[38;5;241m.\u001b[39mgetcwd(), sous_dossier)\n",
      "\u001b[1;31mFileExistsError\u001b[0m: [WinError 183] Impossible de créer un fichier déjà existant: 'hello-tldraw.tldraw' -> 'docs/hello-tldraw.tldraw'"
     ]
    }
   ],
   "source": [
    "### Exo 1 ###\n",
    "\n",
    "import json\n",
    "import os\n",
    "\n",
    "def creer_document_tldraw(texte, nom_fichier):\n",
    "    document_tldraw = {\n",
    "        \"version\": \"1.0\",\n",
    "        \"content\": [\n",
    "            {\n",
    "                \"type\": \"text\",\n",
    "                \"content\": texte\n",
    "            }\n",
    "        ]\n",
    "    }\n",
    "\n",
    "    with open(nom_fichier, 'w') as fichier:\n",
    "        json.dump(document_tldraw, fichier, indent=2)\n",
    "\n",
    "def renommer_et_deplacer_fichier(ancien_nom, nouveau_nom, sous_dossier):\n",
    "    # Renommer le fichier\n",
    "    os.rename(ancien_nom, nouveau_nom)\n",
    "\n",
    "    # Déplacer le fichier dans le sous-dossier\n",
    "    dossier_destination = os.path.join(os.getcwd(), sous_dossier)\n",
    "    if not os.path.exists(dossier_destination):\n",
    "        os.makedirs(dossier_destination)\n",
    "    \n",
    "    chemin_destination = os.path.join(dossier_destination, nouveau_nom)\n",
    "    os.replace(nouveau_nom, chemin_destination)\n",
    "\n",
    "# Créer le document tldraw avec le texte \"Hello tldraw!\"\n",
    "creer_document_tldraw(\"Hello tldraw!\", \"hello-tldraw.tldraw\")\n",
    "\n",
    "# Renommer et déplacer le fichier dans le sous-dossier \"docs\"\n",
    "renommer_et_deplacer_fichier(\"hello-tldraw.tldraw\", \"docs/hello-tldraw.tldraw\", \"docs\")\n"
   ]
  },
  {
   "cell_type": "markdown",
   "id": "11274b6c-32ca-49e2-ae57-7854ada69710",
   "metadata": {},
   "source": [
    "Tldraw files are (utf-8-encoded) text files and therefore can be easily inspected. \n",
    "\n",
    "```{exercise} What's the format of tldraw documents?\n",
    "\n",
    "  1. Print the content of your \"Hello tldraw!\" document into this notebook.\n",
    "\n",
    "  2. The tldraw document format is a dialect of a general-purpose structured data format. \n",
    "  \n",
    "     Which one is it? (JSON, XML, CSV? something else?)\n",
    "\n",
    "```\n"
   ]
  },
  {
   "cell_type": "code",
   "execution_count": 2,
   "id": "39d76bb7-7de0-4d19-85b6-4a32d25b7360",
   "metadata": {
    "scrolled": true
   },
   "outputs": [
    {
     "name": "stdout",
     "output_type": "stream",
     "text": [
      "{\n",
      "  \"version\": \"1.0\",\n",
      "  \"content\": [\n",
      "    {\n",
      "      \"type\": \"text\",\n",
      "      \"content\": \"Hello tldraw!\"\n",
      "    }\n",
      "  ]\n",
      "}\n"
     ]
    }
   ],
   "source": [
    "fichier_tldraw = 'hello-tldraw.tldraw'\n",
    "\n",
    "# Charger le document tldraw en tant que structure arborescente\n",
    "with open(fichier_tldraw, 'r') as fichier:\n",
    "    hello = json.load(fichier)\n",
    "\n",
    "# Afficher le contenu du document tldraw\n",
    "print(json.dumps(hello, indent=2, ensure_ascii=False))"
   ]
  },
  {
   "cell_type": "code",
   "execution_count": 3,
   "id": "4ee13db1-cdc8-4890-9da4-39fd867197a8",
   "metadata": {},
   "outputs": [],
   "source": [
    "### c'est une structure json ###"
   ]
  },
  {
   "cell_type": "markdown",
   "id": "a8f5e1cc-1425-4394-8d73-47640d66d298",
   "metadata": {},
   "source": [
    "\n",
    "```{exercise} Load the document\n",
    ":label: load\n",
    "\n",
    " 1. Find the Python standard library that deals with the file format use by tldraw.\n",
    "\n",
    " 2. Use it to load the tldraw document as a tree-like structure (⚠️ not as a string!).\n",
    "\n",
    " 3. Name this structure `hello`.\n",
    "\n",
    "```"
   ]
  },
  {
   "cell_type": "code",
   "execution_count": 4,
   "id": "7304815c-71da-4f69-a4aa-15366d279e4d",
   "metadata": {},
   "outputs": [
    {
     "name": "stdout",
     "output_type": "stream",
     "text": [
      "{'version': '1.0', 'content': [{'type': 'text', 'content': 'Hello tldraw!'}]}\n"
     ]
    }
   ],
   "source": [
    "### 1.c'est la bibliothèque json ###\n",
    " \n",
    "import json\n",
    "\n",
    "# On s'assure que le fichier existe dans le répertoire actuel\n",
    "fichier_tldraw = 'hello-tldraw.tldraw'\n",
    "\n",
    "# Charger le document tldraw en tant que structure arborescente\n",
    "with open(fichier_tldraw, 'r') as fichier:\n",
    "    hello = json.load(fichier)\n",
    "\n",
    "# Afficher la structure arborescente\n",
    "print(hello)\n"
   ]
  },
  {
   "cell_type": "markdown",
   "id": "a6ce392d-b8fa-4df2-a5e1-e5c9b81dffc8",
   "metadata": {},
   "source": [
    "# Records & Shapes"
   ]
  },
  {
   "cell_type": "markdown",
   "id": "c30a7788-e59e-42ab-a5da-c43aa1bb0872",
   "metadata": {},
   "source": [
    "```{exercise} Structure\n",
    ":label:\n",
    "\n",
    " 1. Can you locate a list of \"records\" inside `doc`? Name that list `records`.\n",
    "\n",
    " 2. Records all have a type name. Can you list all of them?\n",
    "\n",
    " 3. There should be a single shape among your records. What's it's `type`?\n",
    "\n",
    " 4. Name `hello_text` this record and display it in the notebook\n",
    "\n",
    "```"
   ]
  },
  {
   "cell_type": "code",
   "execution_count": 5,
   "id": "880f5d48-19c2-42e5-86ab-c7f429ec5463",
   "metadata": {},
   "outputs": [
    {
     "ename": "NameError",
     "evalue": "name 'doc' is not defined",
     "output_type": "error",
     "traceback": [
      "\u001b[1;31m---------------------------------------------------------------------------\u001b[0m",
      "\u001b[1;31mNameError\u001b[0m                                 Traceback (most recent call last)",
      "Cell \u001b[1;32mIn[5], line 2\u001b[0m\n\u001b[0;32m      1\u001b[0m \u001b[38;5;66;03m# Localiser la liste des \"records\"\u001b[39;00m\n\u001b[1;32m----> 2\u001b[0m records \u001b[38;5;241m=\u001b[39m \u001b[43mdoc\u001b[49m\u001b[38;5;241m.\u001b[39mget(\u001b[38;5;124m\"\u001b[39m\u001b[38;5;124mrecords\u001b[39m\u001b[38;5;124m\"\u001b[39m, [])\n\u001b[0;32m      4\u001b[0m \u001b[38;5;66;03m# Afficher les types de tous les \"records\"\u001b[39;00m\n\u001b[0;32m      5\u001b[0m types_records \u001b[38;5;241m=\u001b[39m [record\u001b[38;5;241m.\u001b[39mget(\u001b[38;5;124m\"\u001b[39m\u001b[38;5;124mtype\u001b[39m\u001b[38;5;124m\"\u001b[39m, \u001b[38;5;124m\"\u001b[39m\u001b[38;5;124mType non spécifié\u001b[39m\u001b[38;5;124m\"\u001b[39m) \u001b[38;5;28;01mfor\u001b[39;00m record \u001b[38;5;129;01min\u001b[39;00m records]\n",
      "\u001b[1;31mNameError\u001b[0m: name 'doc' is not defined"
     ]
    }
   ],
   "source": [
    "# Localiser la liste des \"records\"\n",
    "records = doc.get(\"records\", [])\n",
    "\n",
    "# Afficher les types de tous les \"records\"\n",
    "types_records = [record.get(\"type\", \"Type non spécifié\") for record in records]\n",
    "print(\"Types de tous les records :\", types_records)\n",
    "\n",
    "# Trouver le record nommé \"hello_text\"\n",
    "hello_text_record = next((record for record in records if record.get(\"type\") == \"texte\"), None)\n",
    "\n",
    "# Afficher le record \"hello_text\"\n",
    "print(\"\\nRecord 'hello_text' :\", hello_text_record)\n"
   ]
  },
  {
   "cell_type": "markdown",
   "id": "88a29de9-0fb7-4173-8f5e-29377e5e2147",
   "metadata": {},
   "source": [
    "# Edit the Document"
   ]
  },
  {
   "cell_type": "markdown",
   "id": "0e3880a5-049b-4d0a-a4aa-2678eff6406c",
   "metadata": {},
   "source": [
    "```{exercise} Text Content\n",
    "\n",
    "  1. Locate where in the `hello_text` record the text content is located.\n",
    "  \n",
    "  2. Replace \"Hello tldraw!\" with \"Hello Python!\"\n",
    "\n",
    "  3. Save the corresponding document in the directory `docs` as a `hello-python.tldr` file.\n",
    "\n",
    "  4. Load it in the tldraw editor and check that you end up with something similar to the picture below.\n",
    "\n",
    "```"
   ]
  },
  {
   "cell_type": "code",
   "execution_count": 6,
   "id": "a2a4f3a7-8ac3-4ec0-b332-5dde72a19134",
   "metadata": {},
   "outputs": [
    {
     "ename": "NameError",
     "evalue": "name 'docs' is not defined",
     "output_type": "error",
     "traceback": [
      "\u001b[1;31m---------------------------------------------------------------------------\u001b[0m",
      "\u001b[1;31mNameError\u001b[0m                                 Traceback (most recent call last)",
      "Cell \u001b[1;32mIn[6], line 7\u001b[0m\n\u001b[0;32m      4\u001b[0m fichier_modifie \u001b[38;5;241m=\u001b[39m \u001b[38;5;124m\"\u001b[39m\u001b[38;5;124mhello-python.tldr\u001b[39m\u001b[38;5;124m\"\u001b[39m\n\u001b[0;32m      6\u001b[0m \u001b[38;5;66;03m# Cherchons le champ contenant le texte dans le record \"hello_text\"\u001b[39;00m\n\u001b[1;32m----> 7\u001b[0m hello_text_record \u001b[38;5;241m=\u001b[39m \u001b[38;5;28mnext\u001b[39m((record \u001b[38;5;28;01mfor\u001b[39;00m doc \u001b[38;5;129;01min\u001b[39;00m \u001b[43mdocs\u001b[49m\u001b[38;5;241m.\u001b[39mget(\u001b[38;5;124m\"\u001b[39m\u001b[38;5;124mdocs\u001b[39m\u001b[38;5;124m\"\u001b[39m, []) \u001b[38;5;28;01mfor\u001b[39;00m record \u001b[38;5;129;01min\u001b[39;00m doc\u001b[38;5;241m.\u001b[39mget(\u001b[38;5;124m\"\u001b[39m\u001b[38;5;124mrecords\u001b[39m\u001b[38;5;124m\"\u001b[39m, []) \u001b[38;5;28;01mif\u001b[39;00m record\u001b[38;5;241m.\u001b[39mget(\u001b[38;5;124m\"\u001b[39m\u001b[38;5;124mcontenu\u001b[39m\u001b[38;5;124m\"\u001b[39m) \u001b[38;5;241m==\u001b[39m \u001b[38;5;124m\"\u001b[39m\u001b[38;5;124mHello tldraw!\u001b[39m\u001b[38;5;124m\"\u001b[39m), \u001b[38;5;28;01mNone\u001b[39;00m)\n\u001b[0;32m      9\u001b[0m \u001b[38;5;66;03m# Remplaçons le texte par \"Hello Python!\"\u001b[39;00m\n\u001b[0;32m     10\u001b[0m \u001b[38;5;28;01mif\u001b[39;00m hello_text_record:\n",
      "\u001b[1;31mNameError\u001b[0m: name 'docs' is not defined"
     ]
    }
   ],
   "source": [
    "import json\n",
    "import os\n",
    "\n",
    "fichier_modifie = \"hello-python.tldr\"\n",
    "\n",
    "# Cherchons le champ contenant le texte dans le record \"hello_text\"\n",
    "hello_text_record = next((record for doc in docs.get(\"docs\", []) for record in doc.get(\"records\", []) if record.get(\"contenu\") == \"Hello tldraw!\"), None)\n",
    "\n",
    "# Remplaçons le texte par \"Hello Python!\"\n",
    "if hello_text_record:\n",
    "    hello_text_record[\"contenu\"] = \"Hello Python!\"\n",
    "\n",
    "# Sauvegardons le document modifié dans le répertoire \"docs\"\n",
    "dossier_docs = \"docs\"\n",
    "chemin_complet = os.path.join(dossier_docs, fichier_modifie)\n",
    "with open(chemin_complet, 'w') as fichier:\n",
    "    json.dump(docs, fichier, indent=2)\n",
    "\n",
    "# Visualisons le résultat\n",
    "print(f\"Contenu du document modifié ({fichier_modifie}) :\")\n",
    "print(json.dumps(docs, indent=2, ensure_ascii=False))\n"
   ]
  },
  {
   "cell_type": "markdown",
   "id": "1f95f445-0b47-4cea-a53b-b8d0a8bed59f",
   "metadata": {},
   "source": [
    "![](images/hello-python.png)"
   ]
  },
  {
   "cell_type": "code",
   "execution_count": null,
   "id": "745a9039-82f3-4eb4-9cad-b2972359caf2",
   "metadata": {},
   "outputs": [],
   "source": []
  }
 ],
 "metadata": {
  "kernelspec": {
   "display_name": "Python 3 (ipykernel)",
   "language": "python",
   "name": "python3"
  },
  "language_info": {
   "codemirror_mode": {
    "name": "ipython",
    "version": 3
   },
   "file_extension": ".py",
   "mimetype": "text/x-python",
   "name": "python",
   "nbconvert_exporter": "python",
   "pygments_lexer": "ipython3",
   "version": "3.12.0"
  }
 },
 "nbformat": 4,
 "nbformat_minor": 5
}
