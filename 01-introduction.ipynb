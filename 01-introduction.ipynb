{
 "cells": [
  {
   "cell_type": "markdown",
   "id": "fe99a9cd-253f-4d8f-94e5-cb800c2fb98f",
   "metadata": {},
   "source": [
    "---\n",
    "title: Introduction\n",
    "date: 2023-12-01 \n",
    "authors:\n",
    "  - name: Sébastien Boisgérault\n",
    "    email: Sebastien.Boisgerault@minesparis.psl.eu\n",
    "    url: https://github.com/boisgera\n",
    "    affiliations:\n",
    "      - institution: Mines Paris - PSL University\n",
    "        department: Institut des Transformation Numériques (ITN)\n",
    "github: boisgera\n",
    "license: CC-BY-4.0\n",
    "open_access: true\n",
    "---"
   ]
  },
  {
   "cell_type": "markdown",
   "id": "2c72f6a2-f738-4b05-9c86-8b4071f10aa4",
   "metadata": {},
   "source": [
    "This project is about **tldraw**, a collaborative digital whiteboard that you can use at [tldraw.com](https://tldraw.com). "
   ]
  },
  {
   "cell_type": "markdown",
   "id": "fde23796-ed49-4a03-9056-61d25c217f83",
   "metadata": {},
   "source": [
    "![tldraw](images/tldraw-blank.png)"
   ]
  },
  {
   "cell_type": "markdown",
   "id": "6bdafeb2-51f3-4283-892a-503322cbf092",
   "metadata": {},
   "source": [
    "```{note} About this project\n",
    "\n",
    "We are going to:\n",
    "\n",
    "  1. Explore quickly the structure of tldraw documents and use that knowledge to modify a simple document in Python. [🔗](02-getting-started.ipynb)\n",
    "     \n",
    "  2. Develop a Python function to compare the contents of two tldraw documents. [🔗](03-changes.ipynb)\n",
    "\n",
    "  3. Investigate the method used by tldraw to deal with the depth of graphical objects inside its documents. [🔗](04-layers.ipynb)\n",
    "\n",
    "  4. Design an algorithm to recognize a simple signature ; then automatically detect this signature in tldraw documents. [🔗](05-glyphs.ipynb)\n",
    "\n",
    "```"
   ]
  },
  {
   "cell_type": "code",
   "execution_count": 1,
   "id": "329ca0fa-bc96-4657-b2af-b64962c9444f",
   "metadata": {},
   "outputs": [
    {
     "ename": "FileNotFoundError",
     "evalue": "[Errno 2] No such file or directory: 'document1.tldraw'",
     "output_type": "error",
     "traceback": [
      "\u001b[1;31m---------------------------------------------------------------------------\u001b[0m",
      "\u001b[1;31mFileNotFoundError\u001b[0m                         Traceback (most recent call last)",
      "Cell \u001b[1;32mIn[1], line 12\u001b[0m\n\u001b[0;32m      9\u001b[0m     \u001b[38;5;28;01mreturn\u001b[39;00m donnees_tldraw1 \u001b[38;5;241m==\u001b[39m donnees_tldraw2\n\u001b[0;32m     11\u001b[0m \u001b[38;5;66;03m# Exemple d'utilisation\u001b[39;00m\n\u001b[1;32m---> 12\u001b[0m resultat \u001b[38;5;241m=\u001b[39m \u001b[43mcomparer_documents_tldraw\u001b[49m\u001b[43m(\u001b[49m\u001b[38;5;124;43m'\u001b[39;49m\u001b[38;5;124;43mdocument1.tldraw\u001b[39;49m\u001b[38;5;124;43m'\u001b[39;49m\u001b[43m,\u001b[49m\u001b[43m \u001b[49m\u001b[38;5;124;43m'\u001b[39;49m\u001b[38;5;124;43mdocument2.tldraw\u001b[39;49m\u001b[38;5;124;43m'\u001b[39;49m\u001b[43m)\u001b[49m\n\u001b[0;32m     13\u001b[0m \u001b[38;5;28mprint\u001b[39m(resultat)\n",
      "Cell \u001b[1;32mIn[1], line 3\u001b[0m, in \u001b[0;36mcomparer_documents_tldraw\u001b[1;34m(fichier1, fichier2)\u001b[0m\n\u001b[0;32m      2\u001b[0m \u001b[38;5;28;01mdef\u001b[39;00m \u001b[38;5;21mcomparer_documents_tldraw\u001b[39m(fichier1, fichier2):\n\u001b[1;32m----> 3\u001b[0m     \u001b[38;5;28;01mwith\u001b[39;00m \u001b[38;5;28;43mopen\u001b[39;49m\u001b[43m(\u001b[49m\u001b[43mfichier1\u001b[49m\u001b[43m,\u001b[49m\u001b[43m \u001b[49m\u001b[38;5;124;43m'\u001b[39;49m\u001b[38;5;124;43mr\u001b[39;49m\u001b[38;5;124;43m'\u001b[39;49m\u001b[43m)\u001b[49m \u001b[38;5;28;01mas\u001b[39;00m fichier:\n\u001b[0;32m      4\u001b[0m         donnees_tldraw1 \u001b[38;5;241m=\u001b[39m json\u001b[38;5;241m.\u001b[39mload(fichier)\n\u001b[0;32m      6\u001b[0m     \u001b[38;5;28;01mwith\u001b[39;00m \u001b[38;5;28mopen\u001b[39m(fichier2, \u001b[38;5;124m'\u001b[39m\u001b[38;5;124mr\u001b[39m\u001b[38;5;124m'\u001b[39m) \u001b[38;5;28;01mas\u001b[39;00m fichier:\n",
      "File \u001b[1;32m~\\Desktop\\MINES\\InfoMines\\tidraw_project\\tldraw-project\\.pixi\\envs\\default\\Lib\\site-packages\\IPython\\core\\interactiveshell.py:310\u001b[0m, in \u001b[0;36m_modified_open\u001b[1;34m(file, *args, **kwargs)\u001b[0m\n\u001b[0;32m    303\u001b[0m \u001b[38;5;28;01mif\u001b[39;00m file \u001b[38;5;129;01min\u001b[39;00m {\u001b[38;5;241m0\u001b[39m, \u001b[38;5;241m1\u001b[39m, \u001b[38;5;241m2\u001b[39m}:\n\u001b[0;32m    304\u001b[0m     \u001b[38;5;28;01mraise\u001b[39;00m \u001b[38;5;167;01mValueError\u001b[39;00m(\n\u001b[0;32m    305\u001b[0m         \u001b[38;5;124mf\u001b[39m\u001b[38;5;124m\"\u001b[39m\u001b[38;5;124mIPython won\u001b[39m\u001b[38;5;124m'\u001b[39m\u001b[38;5;124mt let you open fd=\u001b[39m\u001b[38;5;132;01m{\u001b[39;00mfile\u001b[38;5;132;01m}\u001b[39;00m\u001b[38;5;124m by default \u001b[39m\u001b[38;5;124m\"\u001b[39m\n\u001b[0;32m    306\u001b[0m         \u001b[38;5;124m\"\u001b[39m\u001b[38;5;124mas it is likely to crash IPython. If you know what you are doing, \u001b[39m\u001b[38;5;124m\"\u001b[39m\n\u001b[0;32m    307\u001b[0m         \u001b[38;5;124m\"\u001b[39m\u001b[38;5;124myou can use builtins\u001b[39m\u001b[38;5;124m'\u001b[39m\u001b[38;5;124m open.\u001b[39m\u001b[38;5;124m\"\u001b[39m\n\u001b[0;32m    308\u001b[0m     )\n\u001b[1;32m--> 310\u001b[0m \u001b[38;5;28;01mreturn\u001b[39;00m \u001b[43mio_open\u001b[49m\u001b[43m(\u001b[49m\u001b[43mfile\u001b[49m\u001b[43m,\u001b[49m\u001b[43m \u001b[49m\u001b[38;5;241;43m*\u001b[39;49m\u001b[43margs\u001b[49m\u001b[43m,\u001b[49m\u001b[43m \u001b[49m\u001b[38;5;241;43m*\u001b[39;49m\u001b[38;5;241;43m*\u001b[39;49m\u001b[43mkwargs\u001b[49m\u001b[43m)\u001b[49m\n",
      "\u001b[1;31mFileNotFoundError\u001b[0m: [Errno 2] No such file or directory: 'document1.tldraw'"
     ]
    }
   ],
   "source": [
    "2.\n",
    "def comparer_documents_tldraw(fichier1, fichier2):\n",
    "    with open(fichier1, 'r') as fichier:\n",
    "        donnees_tldraw1 = json.load(fichier)\n",
    "\n",
    "    with open(fichier2, 'r') as fichier:\n",
    "        donnees_tldraw2 = json.load(fichier)\n",
    "\n",
    "    return donnees_tldraw1 == donnees_tldraw2\n",
    "\n",
    "# Exemple d'utilisation\n",
    "resultat = comparer_documents_tldraw('document1.tldraw', 'document2.tldraw')\n",
    "print(resultat)\n"
   ]
  },
  {
   "cell_type": "code",
   "execution_count": null,
   "id": "63163351-36c1-4f1e-8ea3-bfe23a080793",
   "metadata": {},
   "outputs": [],
   "source": [
    "4.\n",
    "def detecter_signature(fichier):\n",
    "    with open(fichier, 'r') as fichier:\n",
    "        donnees_tldraw = json.load(fichier)\n",
    "\n",
    "    for forme in donnees_tldraw.get(\"formes\", []):\n",
    "        if forme.get(\"type\") == \"rectangle\" and forme.get(\"signature\") == True:\n",
    "            return True\n",
    "\n",
    "    return False\n",
    "\n",
    "# Exemple d'utilisation\n",
    "resultat = detecter_signature('document.tldraw')\n",
    "print(resultat)\n"
   ]
  }
 ],
 "metadata": {
  "kernelspec": {
   "display_name": "Python 3 (ipykernel)",
   "language": "python",
   "name": "python3"
  },
  "language_info": {
   "codemirror_mode": {
    "name": "ipython",
    "version": 3
   },
   "file_extension": ".py",
   "mimetype": "text/x-python",
   "name": "python",
   "nbconvert_exporter": "python",
   "pygments_lexer": "ipython3",
   "version": "3.12.0"
  }
 },
 "nbformat": 4,
 "nbformat_minor": 5
}
